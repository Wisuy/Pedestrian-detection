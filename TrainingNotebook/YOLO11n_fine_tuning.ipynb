{
  "cells": [
    {
      "cell_type": "code",
      "execution_count": null,
      "metadata": {
        "colab": {
          "base_uri": "https://localhost:8080/"
        },
        "id": "ouHLuit1qqZQ",
        "outputId": "c63fd42e-4927-4a29-940a-adf3e029bd8f"
      },
      "outputs": [],
      "source": [
        "from google.colab import drive\n",
        "drive.mount('/content/drive')"
      ]
    },
    {
      "cell_type": "code",
      "execution_count": null,
      "metadata": {
        "colab": {
          "base_uri": "https://localhost:8080/"
        },
        "id": "lBppWLnmrfih",
        "outputId": "ffc37fed-1e7d-49e9-a639-27d3dec66633"
      },
      "outputs": [],
      "source": [
        "!apt-get install -y unrar"
      ]
    },
    {
      "cell_type": "code",
      "execution_count": null,
      "metadata": {
        "colab": {
          "base_uri": "https://localhost:8080/"
        },
        "collapsed": true,
        "id": "hircDibosFMw",
        "outputId": "5638b370-1d3e-433a-8e53-63f172fa8814"
      },
      "outputs": [],
      "source": [
        "!unrar x /content/drive/MyDrive/ECP.rar /content/ECP_extracted/"
      ]
    },
    {
      "cell_type": "code",
      "execution_count": null,
      "metadata": {
        "colab": {
          "base_uri": "https://localhost:8080/"
        },
        "collapsed": true,
        "id": "96fxc_gpswfd",
        "outputId": "3782dafe-c158-454e-dd09-e8f553761e9d"
      },
      "outputs": [],
      "source": [
        "!pip install ultralytics"
      ]
    },
    {
      "cell_type": "code",
      "execution_count": null,
      "metadata": {
        "colab": {
          "base_uri": "https://localhost:8080/"
        },
        "id": "H4hoVGejs8FY",
        "outputId": "56b5279b-6aac-423a-8ec5-d37889a009c2"
      },
      "outputs": [],
      "source": [
        "import torch\n",
        "print(torch.cuda.get_device_name(0))"
      ]
    },
    {
      "cell_type": "code",
      "execution_count": null,
      "metadata": {
        "colab": {
          "base_uri": "https://localhost:8080/"
        },
        "id": "ktnsFYrftIvZ",
        "outputId": "88f22586-f9db-4896-d8cf-c1160b57dfce"
      },
      "outputs": [],
      "source": [
        "from ultralytics import YOLO\n",
        "\n",
        "model = YOLO('yolo11n')\n",
        "\n",
        "data_yaml_path = '/content/ECP_extracted/ECP/data.yaml'\n",
        "epochs = 70\n",
        "patience = 10\n",
        "img_size = 640\n",
        "\n",
        "model.train(\n",
        "    data=data_yaml_path,\n",
        "    epochs=epochs,\n",
        "    batch=80,\n",
        "    imgsz=img_size,\n",
        "    patience=patience,\n",
        "    cache=True,\n",
        "    save=True,\n",
        "    name='yolov11n_pedestrians'\n",
        ")"
      ]
    },
    {
      "cell_type": "code",
      "execution_count": null,
      "metadata": {
        "colab": {
          "base_uri": "https://localhost:8080/"
        },
        "id": "TALStqSGlxH-",
        "outputId": "86b6579c-2e23-43ca-84c4-8f6b3604fd74"
      },
      "outputs": [],
      "source": [
        "!yolo val model='/content/last.pt' data='/content/ECP_extracted/ECP/data.yaml' save=True save_json=True plots=True"
      ]
    }
  ],
  "metadata": {
    "accelerator": "GPU",
    "colab": {
      "gpuType": "T4",
      "provenance": []
    },
    "kernelspec": {
      "display_name": "Python 3",
      "name": "python3"
    },
    "language_info": {
      "name": "python"
    }
  },
  "nbformat": 4,
  "nbformat_minor": 0
}
